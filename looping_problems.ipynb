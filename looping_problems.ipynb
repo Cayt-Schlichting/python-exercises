{
 "cells": [
  {
   "cell_type": "code",
   "execution_count": 3,
   "id": "7b7d02e3",
   "metadata": {},
   "outputs": [],
   "source": [
    "#Add the data set!\n",
    "students = [\n",
    "    {\n",
    "        \"id\": \"100001\",\n",
    "        \"student\": \"Ada Lovelace\",\n",
    "        \"coffee_preference\": \"light\",\n",
    "        \"course\": \"web development\",\n",
    "        \"grades\": [70, 91, 82, 71],\n",
    "        \"pets\": [{\"species\": \"horse\", \"age\": 8}],\n",
    "    },\n",
    "    {\n",
    "        \"id\": \"100002\",\n",
    "        \"student\": \"Thomas Bayes\",\n",
    "        \"coffee_preference\": \"medium\",\n",
    "        \"course\": \"data science\",\n",
    "        \"grades\": [75, 73, 86, 100],\n",
    "        \"pets\": [],\n",
    "    },\n",
    "    {\n",
    "        \"id\": \"100003\",\n",
    "        \"student\": \"Marie Curie\",\n",
    "        \"coffee_preference\": \"light\",\n",
    "        \"course\": \"web development\",\n",
    "        \"grades\": [70, 89, 69, 65],\n",
    "        \"pets\": [{\"species\": \"cat\", \"age\": 0}],\n",
    "    },\n",
    "    {\n",
    "        \"id\": \"100004\",\n",
    "        \"student\": \"Grace Hopper\",\n",
    "        \"coffee_preference\": \"dark\",\n",
    "        \"course\": \"data science\",\n",
    "        \"grades\": [73, 66, 83, 92],\n",
    "        \"pets\": [{\"species\": \"dog\", \"age\": 4}, {\"species\": \"cat\", \"age\": 4}],\n",
    "    },\n",
    "    {\n",
    "        \"id\": \"100005\",\n",
    "        \"student\": \"Alan Turing\",\n",
    "        \"coffee_preference\": \"dark\",\n",
    "        \"course\": \"web development\",\n",
    "        \"grades\": [78, 98, 85, 65],\n",
    "        \"pets\": [\n",
    "            {\"species\": \"horse\", \"age\": 6},\n",
    "            {\"species\": \"horse\", \"age\": 7},\n",
    "            {\"species\": \"dog\", \"age\": 5},\n",
    "        ],\n",
    "    },\n",
    "    {\n",
    "        \"id\": \"100006\",\n",
    "        \"student\": \"Rosalind Franklin\",\n",
    "        \"coffee_preference\": \"dark\",\n",
    "        \"course\": \"data science\",\n",
    "        \"grades\": [76, 70, 96, 81],\n",
    "        \"pets\": [],\n",
    "    },\n",
    "    {\n",
    "        \"id\": \"100007\",\n",
    "        \"student\": \"Elizabeth Blackwell\",\n",
    "        \"coffee_preference\": \"dark\",\n",
    "        \"course\": \"web development\",\n",
    "        \"grades\": [69, 94, 89, 86],\n",
    "        \"pets\": [{\"species\": \"cat\", \"age\": 10}],\n",
    "    },\n",
    "    {\n",
    "        \"id\": \"100008\",\n",
    "        \"student\": \"Rene Descartes\",\n",
    "        \"coffee_preference\": \"medium\",\n",
    "        \"course\": \"data science\",\n",
    "        \"grades\": [87, 79, 90, 99],\n",
    "        \"pets\": [{\"species\": \"cat\", \"age\": 10}, {\"species\": \"cat\", \"age\": 8}],\n",
    "    },\n",
    "    {\n",
    "        \"id\": \"100009\",\n",
    "        \"student\": \"Ahmed Zewail\",\n",
    "        \"coffee_preference\": \"medium\",\n",
    "        \"course\": \"data science\",\n",
    "        \"grades\": [74, 99, 93, 89],\n",
    "        \"pets\": [{\"species\": \"cat\", \"age\": 0}, {\"species\": \"cat\", \"age\": 0}],\n",
    "    },\n",
    "    {\n",
    "        \"id\": \"100010\",\n",
    "        \"student\": \"Chien-Shiung Wu\",\n",
    "        \"coffee_preference\": \"medium\",\n",
    "        \"course\": \"web development\",\n",
    "        \"grades\": [82, 92, 91, 65],\n",
    "        \"pets\": [{\"species\": \"cat\", \"age\": 8}],\n",
    "    },\n",
    "    {\n",
    "        \"id\": \"100011\",\n",
    "        \"student\": \"William Sanford Nye\",\n",
    "        \"coffee_preference\": \"dark\",\n",
    "        \"course\": \"data science\",\n",
    "        \"grades\": [70, 92, 65, 99],\n",
    "        \"pets\": [{\"species\": \"cat\", \"age\": 8}, {\"species\": \"cat\", \"age\": 5}],\n",
    "    },\n",
    "    {\n",
    "        \"id\": \"100012\",\n",
    "        \"student\": \"Carl Sagan\",\n",
    "        \"coffee_preference\": \"medium\",\n",
    "        \"course\": \"data science\",\n",
    "        \"grades\": [100, 86, 91, 87],\n",
    "        \"pets\": [{\"species\": \"cat\", \"age\": 10}],\n",
    "    },\n",
    "    {\n",
    "        \"id\": \"100013\",\n",
    "        \"student\": \"Jane Goodall\",\n",
    "        \"coffee_preference\": \"light\",\n",
    "        \"course\": \"web development\",\n",
    "        \"grades\": [80, 70, 68, 98],\n",
    "        \"pets\": [{\"species\": \"horse\", \"age\": 4}],\n",
    "    },\n",
    "    {\n",
    "        \"id\": \"100014\",\n",
    "        \"student\": \"Richard Feynman\",\n",
    "        \"coffee_preference\": \"medium\",\n",
    "        \"course\": \"web development\",\n",
    "        \"grades\": [73, 99, 86, 98],\n",
    "        \"pets\": [{\"species\": \"dog\", \"age\": 6}],\n",
    "    },\n",
    "]"
   ]
  },
  {
   "cell_type": "markdown",
   "id": "624575b9",
   "metadata": {},
   "source": [
    "#How many students are there"
   ]
  },
  {
   "cell_type": "code",
   "execution_count": 4,
   "id": "1b1ecf8f",
   "metadata": {},
   "outputs": [
    {
     "data": {
      "text/plain": [
       "14"
      ]
     },
     "execution_count": 4,
     "metadata": {},
     "output_type": "execute_result"
    }
   ],
   "source": [
    "len(students)"
   ]
  },
  {
   "cell_type": "markdown",
   "id": "bef26f95",
   "metadata": {},
   "source": [
    "#2 How many students prefer light coffee? For each type of coffee roast?"
   ]
  },
  {
   "cell_type": "code",
   "execution_count": 11,
   "id": "926a9b8a",
   "metadata": {},
   "outputs": [
    {
     "name": "stdout",
     "output_type": "stream",
     "text": [
      "3\n"
     ]
    }
   ],
   "source": [
    "count = 0\n",
    "for x in students:\n",
    "    if x['coffee_preference'] == 'light': count += 1\n",
    "\n",
    "print(count)\n",
    "        "
   ]
  },
  {
   "cell_type": "markdown",
   "id": "d27c5d1e",
   "metadata": {},
   "source": [
    "#3 How many types of each pet are there?\n"
   ]
  },
  {
   "cell_type": "code",
   "execution_count": 12,
   "id": "d6ce0a6a",
   "metadata": {},
   "outputs": [
    {
     "name": "stdout",
     "output_type": "stream",
     "text": [
      "12\n"
     ]
    }
   ],
   "source": [
    "pet_types = []\n",
    "#loop over students\n",
    "for x in students:\n",
    "    #loop over pets list\n",
    "    for y in x['pets']:\n",
    "        if y not in pet_types: pet_types.append(y)\n",
    "print(len(pet_types))"
   ]
  },
  {
   "cell_type": "markdown",
   "id": "00c3045f",
   "metadata": {},
   "source": [
    "#4 How many grades does each student have? Do they all have the same number of grades?"
   ]
  },
  {
   "cell_type": "code",
   "execution_count": null,
   "id": "199cdaf7",
   "metadata": {},
   "outputs": [],
   "source": []
  },
  {
   "cell_type": "markdown",
   "id": "ae29974f",
   "metadata": {},
   "source": [
    "#5 What is each student's grade average?\n"
   ]
  },
  {
   "cell_type": "code",
   "execution_count": null,
   "id": "9102ba27",
   "metadata": {},
   "outputs": [],
   "source": []
  },
  {
   "cell_type": "markdown",
   "id": "74bb0b0a",
   "metadata": {},
   "source": [
    "#6 How many pets does each student have?"
   ]
  },
  {
   "cell_type": "code",
   "execution_count": null,
   "id": "5128a235",
   "metadata": {},
   "outputs": [],
   "source": []
  },
  {
   "cell_type": "markdown",
   "id": "615b8952",
   "metadata": {},
   "source": [
    "#7 How many students are in web development? data science?"
   ]
  },
  {
   "cell_type": "code",
   "execution_count": null,
   "id": "79f82e36",
   "metadata": {},
   "outputs": [],
   "source": []
  },
  {
   "cell_type": "markdown",
   "id": "87b93879",
   "metadata": {},
   "source": [
    "#8 What is the average number of pets for students in web development?"
   ]
  },
  {
   "cell_type": "code",
   "execution_count": null,
   "id": "1b9c9582",
   "metadata": {},
   "outputs": [],
   "source": []
  },
  {
   "cell_type": "markdown",
   "id": "04018ec4",
   "metadata": {},
   "source": [
    "#9 What is the average pet age for students in data science?"
   ]
  },
  {
   "cell_type": "code",
   "execution_count": null,
   "id": "c6b79efc",
   "metadata": {},
   "outputs": [],
   "source": []
  },
  {
   "cell_type": "markdown",
   "id": "714c128f",
   "metadata": {},
   "source": [
    "#10 What is most frequent coffee preference for data science students?"
   ]
  },
  {
   "cell_type": "code",
   "execution_count": null,
   "id": "c6e25efe",
   "metadata": {},
   "outputs": [],
   "source": []
  },
  {
   "cell_type": "markdown",
   "id": "65b22497",
   "metadata": {},
   "source": [
    "#11 What is the least frequent coffee preference for web development students?"
   ]
  },
  {
   "cell_type": "code",
   "execution_count": null,
   "id": "b86303d7",
   "metadata": {},
   "outputs": [],
   "source": []
  },
  {
   "cell_type": "markdown",
   "id": "888d68d6",
   "metadata": {},
   "source": [
    "#12 What is the average grade for students with at least 2 pets?"
   ]
  },
  {
   "cell_type": "code",
   "execution_count": null,
   "id": "38179eb5",
   "metadata": {},
   "outputs": [],
   "source": []
  },
  {
   "cell_type": "markdown",
   "id": "3623642d",
   "metadata": {},
   "source": [
    "#13 How many students have 3 pets?"
   ]
  },
  {
   "cell_type": "code",
   "execution_count": null,
   "id": "162a68af",
   "metadata": {},
   "outputs": [],
   "source": []
  },
  {
   "cell_type": "markdown",
   "id": "6a13e410",
   "metadata": {},
   "source": [
    "#14 What is the average grade for students with 0 pets?"
   ]
  },
  {
   "cell_type": "code",
   "execution_count": null,
   "id": "1ea638a9",
   "metadata": {},
   "outputs": [],
   "source": []
  },
  {
   "cell_type": "markdown",
   "id": "844a117d",
   "metadata": {},
   "source": [
    "#15 What is the average grade for web development students? data science students?"
   ]
  },
  {
   "cell_type": "code",
   "execution_count": null,
   "id": "6d881c9b",
   "metadata": {},
   "outputs": [],
   "source": []
  },
  {
   "cell_type": "markdown",
   "id": "d32a0b71",
   "metadata": {},
   "source": [
    "#16 What is the average grade range (i.e. highest grade - lowest grade) for dark coffee drinkers?"
   ]
  },
  {
   "cell_type": "code",
   "execution_count": null,
   "id": "8269e7d5",
   "metadata": {},
   "outputs": [],
   "source": []
  },
  {
   "cell_type": "markdown",
   "id": "c1a575e9",
   "metadata": {},
   "source": [
    "#17 What is the average number of pets for medium coffee drinkers? "
   ]
  },
  {
   "cell_type": "code",
   "execution_count": null,
   "id": "16e9b0d4",
   "metadata": {},
   "outputs": [],
   "source": []
  },
  {
   "cell_type": "markdown",
   "id": "bc29f0a5",
   "metadata": {},
   "source": [
    "#18 What is the most common type of pet for web development students?"
   ]
  },
  {
   "cell_type": "code",
   "execution_count": null,
   "id": "b14230ae",
   "metadata": {},
   "outputs": [],
   "source": []
  },
  {
   "cell_type": "markdown",
   "id": "ed03c984",
   "metadata": {},
   "source": [
    "#19 What is the average name length?\n"
   ]
  },
  {
   "cell_type": "code",
   "execution_count": null,
   "id": "798c059c",
   "metadata": {},
   "outputs": [],
   "source": []
  },
  {
   "cell_type": "markdown",
   "id": "2bb03914",
   "metadata": {},
   "source": [
    "#20 What is the highest pet age for light coffee drinkers?"
   ]
  }
 ],
 "metadata": {
  "kernelspec": {
   "display_name": "Python 3 (ipykernel)",
   "language": "python",
   "name": "python3"
  },
  "language_info": {
   "codemirror_mode": {
    "name": "ipython",
    "version": 3
   },
   "file_extension": ".py",
   "mimetype": "text/x-python",
   "name": "python",
   "nbconvert_exporter": "python",
   "pygments_lexer": "ipython3",
   "version": "3.9.7"
  }
 },
 "nbformat": 4,
 "nbformat_minor": 5
}
