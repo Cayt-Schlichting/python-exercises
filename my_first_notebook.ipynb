{
 "cells": [
  {
   "cell_type": "markdown",
   "id": "b1fb7e22",
   "metadata": {},
   "source": [
    "# Basic Notebook\n",
    "\n",
    "## Play around with the different headings\n",
    "\n"
   ]
  },
  {
   "cell_type": "code",
   "execution_count": 1,
   "id": "025c241b",
   "metadata": {},
   "outputs": [],
   "source": [
    "val = 2+2\n",
    "#ESC, then h brings up a list of shortcuts"
   ]
  },
  {
   "cell_type": "code",
   "execution_count": 2,
   "id": "a0e02dc8",
   "metadata": {},
   "outputs": [
    {
     "name": "stdout",
     "output_type": "stream",
     "text": [
      "4\n"
     ]
    }
   ],
   "source": [
    "print(val)"
   ]
  },
  {
   "cell_type": "code",
   "execution_count": 7,
   "id": "ec69d2b1",
   "metadata": {},
   "outputs": [
    {
     "name": "stdout",
     "output_type": "stream",
     "text": [
      "I picked a number from 1-10.  What do you think it is: 5\n",
      "YOU FAIL\n"
     ]
    }
   ],
   "source": [
    "myvalue = input(\"I picked a number from 1-10.  What do you think it is: \")\n",
    "if val == myvalue: \n",
    "    print(\"You're right!\") \n",
    "else: print(\"YOU FAIL\")\n",
    "    #shift + enter executes a cell"
   ]
  },
  {
   "cell_type": "code",
   "execution_count": null,
   "id": "fe720cab",
   "metadata": {},
   "outputs": [],
   "source": [
    "# ESC, then 'b' inserts a new cell below\n",
    "# After using a shortcut, hit Enter to go back to edit mode"
   ]
  },
  {
   "cell_type": "code",
   "execution_count": null,
   "id": "9cedfae9",
   "metadata": {},
   "outputs": [],
   "source": []
  }
 ],
 "metadata": {
  "kernelspec": {
   "display_name": "Python 3 (ipykernel)",
   "language": "python",
   "name": "python3"
  },
  "language_info": {
   "codemirror_mode": {
    "name": "ipython",
    "version": 3
   },
   "file_extension": ".py",
   "mimetype": "text/x-python",
   "name": "python",
   "nbconvert_exporter": "python",
   "pygments_lexer": "ipython3",
   "version": "3.9.7"
  }
 },
 "nbformat": 4,
 "nbformat_minor": 5
}
