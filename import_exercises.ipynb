{
 "cells": [
  {
   "cell_type": "code",
   "execution_count": 2,
   "id": "9cc34245",
   "metadata": {},
   "outputs": [],
   "source": [
    "from function_exercises import get_letter_grade"
   ]
  },
  {
   "cell_type": "code",
   "execution_count": 5,
   "id": "cd9a7dd6",
   "metadata": {},
   "outputs": [
    {
     "data": {
      "text/plain": [
       "'C'"
      ]
     },
     "execution_count": 5,
     "metadata": {},
     "output_type": "execute_result"
    }
   ],
   "source": [
    "get_letter_grade(77)"
   ]
  },
  {
   "cell_type": "markdown",
   "id": "c9c9b042",
   "metadata": {},
   "source": [
    "#2 itertools module\n"
   ]
  },
  {
   "cell_type": "code",
   "execution_count": 28,
   "id": "83e87eb6",
   "metadata": {},
   "outputs": [],
   "source": [
    "import itertools as it"
   ]
  },
  {
   "cell_type": "code",
   "execution_count": 39,
   "id": "c21e5b31",
   "metadata": {},
   "outputs": [
    {
     "data": {
      "text/plain": [
       "9"
      ]
     },
     "execution_count": 39,
     "metadata": {},
     "output_type": "execute_result"
    }
   ],
   "source": [
    "#how many ways to combine letters \"abc\" with 1, 2, and 3\n",
    "len(list(it.product('abc','123')))"
   ]
  },
  {
   "cell_type": "code",
   "execution_count": 40,
   "id": "12a88964",
   "metadata": {},
   "outputs": [
    {
     "data": {
      "text/plain": [
       "6"
      ]
     },
     "execution_count": 40,
     "metadata": {},
     "output_type": "execute_result"
    }
   ],
   "source": [
    "#how many different combinations of 2 letters from abcd\n",
    "len(list(it.combinations(\"abcd\", 2)))"
   ]
  },
  {
   "cell_type": "code",
   "execution_count": 43,
   "id": "5ce7cd54",
   "metadata": {},
   "outputs": [
    {
     "data": {
      "text/plain": [
       "12"
      ]
     },
     "execution_count": 43,
     "metadata": {},
     "output_type": "execute_result"
    }
   ],
   "source": [
    "#How many different permutations are there in 2 letters from abcd\n",
    "len(list(it.permutations(\"abcd\", 2)))"
   ]
  },
  {
   "cell_type": "markdown",
   "id": "a777d999",
   "metadata": {},
   "source": [
    "#3 Work with profiles.json"
   ]
  },
  {
   "cell_type": "code",
   "execution_count": null,
   "id": "f62e2258",
   "metadata": {},
   "outputs": [],
   "source": []
  },
  {
   "cell_type": "code",
   "execution_count": null,
   "id": "89a7f9b2",
   "metadata": {},
   "outputs": [],
   "source": []
  },
  {
   "cell_type": "code",
   "execution_count": null,
   "id": "cbd99949",
   "metadata": {},
   "outputs": [],
   "source": []
  },
  {
   "cell_type": "code",
   "execution_count": null,
   "id": "783b5ffd",
   "metadata": {},
   "outputs": [],
   "source": []
  }
 ],
 "metadata": {
  "kernelspec": {
   "display_name": "Python 3 (ipykernel)",
   "language": "python",
   "name": "python3"
  },
  "language_info": {
   "codemirror_mode": {
    "name": "ipython",
    "version": 3
   },
   "file_extension": ".py",
   "mimetype": "text/x-python",
   "name": "python",
   "nbconvert_exporter": "python",
   "pygments_lexer": "ipython3",
   "version": "3.9.7"
  }
 },
 "nbformat": 4,
 "nbformat_minor": 5
}
